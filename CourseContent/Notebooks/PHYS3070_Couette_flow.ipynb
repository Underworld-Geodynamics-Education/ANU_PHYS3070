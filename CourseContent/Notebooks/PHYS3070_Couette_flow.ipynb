{
 "cells": [
  {
   "cell_type": "markdown",
   "metadata": {},
   "source": [
    "# PHYS3070: Couette Flow\n",
    "\n",
    "In fluid dynamics, Couette flow is the flow of a\n",
    "viscous fluid in the space between two surfaces, one of which is moving\n",
    "tangentially relative to the other. The configuration often takes the form of\n",
    "two parallel plates or the gap between two concentric cylinders. The flow is\n",
    "driven by virtue of viscous drag force acting on the fluid, but may additionally\n",
    "be motivated by an applied pressure gradient in the flow direction. The Couette\n",
    "configuration models is often use to measure the viscosity of a fluid.\n",
    "\n",
    "<img src=\"ressources/1920px-Laminar_shear.png\" width=\"800\">\n",
    "\n",
    "(source:Wikipedia)\n",
    "\n",
    "## Import UWGeodynamics\n",
    "\n",
    "We will use *UWGeodynamics*, a high-level interface to\n",
    "the Underworld API.\n",
    "The python module can be imported as follow."
   ]
  },
  {
   "cell_type": "code",
   "execution_count": 1,
   "metadata": {
    "attributes": {
     "classes": [],
     "id": "",
     "n": "1"
    }
   },
   "outputs": [
    {
     "name": "stdout",
     "output_type": "stream",
     "text": [
      "loaded rc file /opt/UWGeodynamics/UWGeodynamics/uwgeo-data/uwgeodynamicsrc\n"
     ]
    }
   ],
   "source": [
    "import UWGeodynamics as GEO\n",
    "import glucifer"
   ]
  },
  {
   "cell_type": "markdown",
   "metadata": {},
   "source": [
    "## Scaling"
   ]
  },
  {
   "cell_type": "code",
   "execution_count": 2,
   "metadata": {
    "attributes": {
     "classes": [],
     "id": "",
     "n": "2"
    }
   },
   "outputs": [],
   "source": [
    "u = GEO.UnitRegistry"
   ]
  },
  {
   "cell_type": "code",
   "execution_count": 3,
   "metadata": {
    "attributes": {
     "classes": [],
     "id": "",
     "n": "3"
    }
   },
   "outputs": [],
   "source": [
    "velocity = 1.0 * u.meter / u.hour\n",
    "model_length = 2. * u.meter\n",
    "model_height = 1. * u.meter\n",
    "refViscosity = 1e6 * u.pascal * u.second\n",
    "bodyforce = 200 * u.kilogram / u.metre**3 * 9.81 * u.meter / u.second**2\n",
    "\n",
    "characteristic_length = model_height\n",
    "characteristic_time = characteristic_length / velocity\n",
    "characteristic_mass = bodyforce * characteristic_length**2 * characteristic_time**2\n",
    "\n",
    "GEO.scaling_coefficients[\"[length]\"] = characteristic_length\n",
    "GEO.scaling_coefficients[\"[time]\"] = characteristic_time\n",
    "GEO.scaling_coefficients[\"[mass]\"]=characteristic_mass"
   ]
  },
  {
   "cell_type": "markdown",
   "metadata": {},
   "source": [
    "# Geometry\n",
    "\n",
    "The first step is to define the geometry of our problem, essentially\n",
    "a box on which we will apply some physical constraints and that will contain a\n",
    "set of materials. We can think of it as an \"universe\".\n",
    "The \"laws\" and their\n",
    "effects are calculated on a mesh, that mesh discretized our universe into finite\n",
    "elements.\n",
    "\n",
    "The geodynamics module allows you to quickly set up a model by\n",
    "creating a *Model* object.\n",
    "A series of arguments are required to define a\n",
    "*Model*:"
   ]
  },
  {
   "cell_type": "markdown",
   "metadata": {},
   "source": [
    "- The number of elements in each direction elementRes=(nx, ny);\n",
    "- The minimum coordinates for each axis minCoord=(minX, minY)\n",
    "- The maximum\n",
    "coordinates for each axis maxCoord=(maxX, maxY)\n",
    "- A vector that defines the\n",
    "magnitude and direction of the gravity components gravity=(gx, gy)"
   ]
  },
  {
   "cell_type": "markdown",
   "metadata": {},
   "source": [
    "We define a\n",
    "tank in 2-dimensions. The dimension of the tank is set to be 1m in height and 1m\n",
    "in width. The extent of the tank is defined using the `minCoord` and `maxCoord`\n",
    "arguments chosen in a way that the origin is located at the center of the tank."
   ]
  },
  {
   "cell_type": "code",
   "execution_count": 4,
   "metadata": {
    "attributes": {
     "classes": [],
     "id": "",
     "n": "4"
    }
   },
   "outputs": [],
   "source": [
    "Model = GEO.Model(elementRes=(128, 64), \n",
    "                  minCoord=(-1.0 * u.m, 0. * u.m), \n",
    "                  maxCoord=(1.0 * u.m, 1.0 * u.m),\n",
    "                  gravity=(0., -9.81 * u.m / u.s**2), \n",
    "                  periodic=(True,False))"
   ]
  },
  {
   "cell_type": "markdown",
   "metadata": {},
   "source": [
    "## Materials\n",
    "\n",
    "Now that we have our \"universe\" (box, sand pit) ready, we need to\n",
    "fill it with some materials.\n",
    "*UWGeodynamics* is designed around that idea of\n",
    "materials, which are essentially a way to define physical properties across the\n",
    "Model domain.\n",
    "\n",
    "A material (or a phase) is first defined by the space it takes in\n",
    "the box (its shape).\n",
    "\n",
    "The tank is filled with a viscous fluid\n",
    "(`background_fluid`)."
   ]
  },
  {
   "cell_type": "code",
   "execution_count": 5,
   "metadata": {
    "attributes": {
     "classes": [],
     "id": "",
     "n": "5"
    }
   },
   "outputs": [],
   "source": [
    "background_fluid = Model.add_material(name=\"Background\", shape=GEO.shapes.Layer2D(top=Model.top, bottom=Model.bottom))"
   ]
  },
  {
   "cell_type": "markdown",
   "metadata": {},
   "source": [
    "### Material properties"
   ]
  },
  {
   "cell_type": "code",
   "execution_count": 6,
   "metadata": {
    "attributes": {
     "classes": [],
     "id": "",
     "n": "6"
    }
   },
   "outputs": [],
   "source": [
    "background_fluid.viscosity = 1e6 * u.pascal * u.second"
   ]
  },
  {
   "cell_type": "markdown",
   "metadata": {},
   "source": [
    "## Define Boundary Conditions\n",
    "\n",
    "The boundary conditions are freeslip everywhere\n",
    "(zero shear stress)."
   ]
  },
  {
   "cell_type": "code",
   "execution_count": 7,
   "metadata": {
    "attributes": {
     "classes": [],
     "id": "",
     "n": "7"
    }
   },
   "outputs": [
    {
     "data": {
      "text/plain": [
       "<underworld.conditions._conditions.DirichletCondition at 0x7f66e2f73240>"
      ]
     },
     "execution_count": 7,
     "metadata": {},
     "output_type": "execute_result"
    }
   ],
   "source": [
    "Model.set_velocityBCs(top=[1.0 * u.m / u.hour, 0.], bottom=[0., 0.])"
   ]
  },
  {
   "cell_type": "markdown",
   "metadata": {},
   "source": [
    "### Visualisation of the Initial Velocity field"
   ]
  },
  {
   "cell_type": "code",
   "execution_count": 8,
   "metadata": {
    "attributes": {
     "classes": [],
     "id": "",
     "n": "8"
    }
   },
   "outputs": [
    {
     "data": {
      "text/html": [
       "<img src='data:image/png;base64,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'>"
      ],
      "text/plain": [
       "<IPython.core.display.HTML object>"
      ]
     },
     "metadata": {},
     "output_type": "display_data"
    }
   ],
   "source": [
    "import underworld.function as fn\n",
    "\n",
    "# Calculate the velocity magnitude\n",
    "velocityMag = fn.math.dot(Model.velocityField, Model.velocityField)\n",
    "# Get a conversion factor to units of m/hr\n",
    "fact = GEO.dimensionalise(1.0, u.metre / u.hour).magnitude\n",
    "# Apply the factor to the velocity Magnitude\n",
    "velocityMag *= fact\n",
    "\n",
    "Fig = glucifer.Figure(figsize=(1000,600), title=\"Velocity field in m/h\")\n",
    "Fig.Surface(Model.mesh, velocityMag)\n",
    "Fig.VectorArrows(Model.mesh, Model.velocityField)\n",
    "Fig.show()"
   ]
  },
  {
   "cell_type": "markdown",
   "metadata": {},
   "source": [
    "## Init and Run Model"
   ]
  },
  {
   "cell_type": "code",
   "execution_count": 9,
   "metadata": {
    "attributes": {
     "classes": [],
     "id": "",
     "n": "9"
    }
   },
   "outputs": [],
   "source": [
    "Model.init_model(temperature=False)"
   ]
  },
  {
   "cell_type": "code",
   "execution_count": 10,
   "metadata": {
    "attributes": {
     "classes": [],
     "id": "",
     "n": "10"
    }
   },
   "outputs": [
    {
     "name": "stdout",
     "output_type": "stream",
     "text": [
      "Running with UWGeodynamics version 2.8.1-dev-d0ac155(master)\n",
      "Step:     1 Model Time: 28.1 second dt: 28.1 second (2019-09-25 02:09:40)\n",
      "Step:     2 Model Time: 0.9 minute dt: 28.1 second (2019-09-25 02:09:44)\n",
      "Step:     3 Model Time: 1.4 minute dt: 28.1 second (2019-09-25 02:09:48)\n",
      "Step:     4 Model Time: 1.9 minute dt: 28.1 second (2019-09-25 02:09:53)\n",
      "Step:     5 Model Time: 2.3 minute dt: 28.1 second (2019-09-25 02:09:57)\n",
      "Step:     6 Model Time: 2.8 minute dt: 28.1 second (2019-09-25 02:10:01)\n",
      "Step:     7 Model Time: 3.3 minute dt: 28.1 second (2019-09-25 02:10:05)\n",
      "Step:     8 Model Time: 3.7 minute dt: 28.1 second (2019-09-25 02:10:10)\n",
      "Step:     9 Model Time: 4.2 minute dt: 28.1 second (2019-09-25 02:10:14)\n",
      "Step:    10 Model Time: 4.7 minute dt: 28.1 second (2019-09-25 02:10:18)\n"
     ]
    },
    {
     "data": {
      "text/plain": [
       "1"
      ]
     },
     "execution_count": 10,
     "metadata": {},
     "output_type": "execute_result"
    }
   ],
   "source": [
    "Model.run_for(nstep=10, checkpoint_interval=1)"
   ]
  },
  {
   "cell_type": "code",
   "execution_count": 11,
   "metadata": {
    "attributes": {
     "classes": [],
     "id": "",
     "n": "11"
    }
   },
   "outputs": [
    {
     "data": {
      "text/html": [
       "<img src='data:image/png;base64,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'>"
      ],
      "text/plain": [
       "<IPython.core.display.HTML object>"
      ]
     },
     "metadata": {},
     "output_type": "display_data"
    }
   ],
   "source": [
    "Fig.show()"
   ]
  },
  {
   "cell_type": "code",
   "execution_count": 13,
   "metadata": {
    "attributes": {
     "classes": [],
     "id": "",
     "n": "18"
    }
   },
   "outputs": [
    {
     "data": {
      "image/png": "[encoded data removed]",
      "text/plain": [
       "<Figure size 504x504 with 1 Axes>"
      ]
     },
     "metadata": {
      "needs_background": "light"
     },
     "output_type": "display_data"
    }
   ],
   "source": [
    "import matplotlib.pyplot as plt\n",
    "\n",
    "\n",
    "if GEO.nProcs == 1:\n",
    "\n",
    "    distances, vx = GEO.extract_profile(Model.velocityField[0], \n",
    "                                        line = [(-1.0 * u.m, Model.bottom), (-1.0 * u.m, Model.top)])\n",
    "\n",
    "    Fig, (ax1) = plt.subplots(1,1,figsize=(7,7))\n",
    "    ax1.plot(GEO.dimensionalise(vx, u.meter / u.hour), GEO.dimensionalise(distances, u.m))\n",
    "    ax1.set_ylabel(\"Depth in m\")\n",
    "    ax1.set_xlabel(\"velocity in meter / hour\")\n",
    "    ax1.set_title(\"Velocity Profile\")\n",
    "    \n",
    "plt.show()"
   ]
  }
 ],
 "metadata": {
  "kernelspec": {
   "display_name": "Python 3",
   "language": "python",
   "name": "python3"
  },
  "language_info": {
   "codemirror_mode": {
    "name": "ipython",
    "version": 3
   },
   "file_extension": ".py",
   "mimetype": "text/x-python",
   "name": "python",
   "nbconvert_exporter": "python",
   "pygments_lexer": "ipython3",
   "version": "3.7.4"
  }
 },
 "nbformat": 4,
 "nbformat_minor": 2
}
