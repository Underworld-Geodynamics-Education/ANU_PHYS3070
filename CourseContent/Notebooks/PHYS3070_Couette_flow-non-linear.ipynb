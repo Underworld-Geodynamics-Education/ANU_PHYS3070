{
 "cells": [
  {
   "cell_type": "markdown",
   "metadata": {},
   "source": [
    "# PHYS3070: Couette Flow\n",
    "\n",
    "In fluid dynamics, Couette flow is the flow of a\n",
    "viscous fluid in the space between two surfaces, one of which is moving\n",
    "tangentially relative to the other. The configuration often takes the form of\n",
    "two parallel plates or the gap between two concentric cylinders. The flow is\n",
    "driven by virtue of viscous drag force acting on the fluid, but may additionally\n",
    "be motivated by an applied pressure gradient in the flow direction. The Couette\n",
    "configuration models is often use to measure the viscosity of a fluid.\n",
    "\n",
    "This notebook explain how to introduce non-linear viscosity (Stress / Pressure dependent)\n",
    "\n",
    "<img src=\"ressources/1920px-Laminar_shear.png\" width=\"800\">\n",
    "\n",
    "(source:Wikipedia)\n",
    "\n",
    "## Import UWGeodynamics\n",
    "\n",
    "We will use *UWGeodynamics*, a high-level interface to\n",
    "the Underworld API.\n",
    "The python module can be imported as follow."
   ]
  },
  {
   "cell_type": "code",
   "execution_count": 1,
   "metadata": {},
   "outputs": [
    {
     "name": "stdout",
     "output_type": "stream",
     "text": [
      "loaded rc file /opt/UWGeodynamics/UWGeodynamics/uwgeo-data/uwgeodynamicsrc\n"
     ]
    }
   ],
   "source": [
    "import UWGeodynamics as GEO\n",
    "import glucifer"
   ]
  },
  {
   "cell_type": "markdown",
   "metadata": {},
   "source": [
    "## Scaling"
   ]
  },
  {
   "cell_type": "code",
   "execution_count": 2,
   "metadata": {},
   "outputs": [],
   "source": [
    "u = GEO.UnitRegistry"
   ]
  },
  {
   "cell_type": "code",
   "execution_count": 3,
   "metadata": {},
   "outputs": [],
   "source": [
    "velocity = 1.0 * u.meter / u.hour\n",
    "model_length = 2. * u.meter\n",
    "model_height = 1. * u.meter\n",
    "refViscosity = 1e6 * u.pascal * u.second\n",
    "bodyforce = 200 * u.kilogram / u.metre**3 * 9.81 * u.meter / u.second**2\n",
    "temperature_diff = 300. * u.degK\n",
    "\n",
    "characteristic_length = model_height\n",
    "characteristic_time = characteristic_length / velocity\n",
    "characteristic_mass = bodyforce * characteristic_length**2 * characteristic_time**2\n",
    "characteristic_temperature = temperature_diff\n",
    "\n",
    "GEO.scaling_coefficients[\"[length]\"] = characteristic_length\n",
    "GEO.scaling_coefficients[\"[time]\"] = characteristic_time\n",
    "GEO.scaling_coefficients[\"[mass]\"]=characteristic_mass\n",
    "GEO.scaling_coefficients[\"[temperature]\"] = characteristic_temperature"
   ]
  },
  {
   "cell_type": "markdown",
   "metadata": {},
   "source": [
    "# Geometry\n",
    "\n",
    "The first step is to define the geometry of our problem, essentially a box on which we will apply some physical constraints and that will contain a set of materials. We can think of it as an \"universe\".\n",
    "The \"laws\" and their effects are calculated on a mesh, that mesh discretized our universe into finite elements.\n",
    "\n",
    "The geodynamics module allows you to quickly set up a model by creating a *Model* object.\n",
    "A series of arguments are required to define a *Model*:\n",
    "\n",
    "    - The number of elements in each direction elementRes=(nx, ny);\n",
    "    - The minimum coordinates for each axis minCoord=(minX, minY)\n",
    "    - The maximum coordinates for each axis maxCoord=(maxX, maxY)\n",
    "    - A vector that defines the magnitude and direction of the gravity components gravity=(gx, gy)\n",
    "\n",
    "We define a tank in 2-dimensions. The dimension of the tank is set to be 1m in height and 1m in width. The extent of the tank is defined using the `minCoord` and `maxCoord` arguments chosen in a way that the origin is located at the center of the tank."
   ]
  },
  {
   "cell_type": "code",
   "execution_count": 4,
   "metadata": {},
   "outputs": [],
   "source": [
    "Model = GEO.Model(elementRes=(128, 64), \n",
    "                  minCoord=(-1.0 * u.m, 0. * u.m), \n",
    "                  maxCoord=(1.0 * u.m, 1.0 * u.m),\n",
    "                  gravity=(0., -9.81 * u.m / u.s**2))"
   ]
  },
  {
   "cell_type": "code",
   "execution_count": 5,
   "metadata": {},
   "outputs": [],
   "source": [
    "Model.diffusivity = 1e-6 * u.meter**2 / u.second "
   ]
  },
  {
   "cell_type": "markdown",
   "metadata": {},
   "source": [
    "## Materials\n",
    "\n",
    "Now that we have our \"universe\" (box, sand pit) ready, we need to fill it with some materials.\n",
    "*UWGeodynamics* is designed around that idea of materials, which are essentially a way to define physical properties across the Model domain.\n",
    "\n",
    "A material (or a phase) is first defined by the space it takes in the box (its shape).\n",
    "\n",
    "The tank is filled with a viscous fluid (`background_fluid`)."
   ]
  },
  {
   "cell_type": "code",
   "execution_count": 6,
   "metadata": {},
   "outputs": [],
   "source": [
    "background_fluid = Model.add_material(name=\"Background\", shape=GEO.shapes.Layer2D(top=Model.top, bottom=Model.bottom))"
   ]
  },
  {
   "cell_type": "markdown",
   "metadata": {},
   "source": [
    "### Material properties"
   ]
  },
  {
   "cell_type": "code",
   "execution_count": 10,
   "metadata": {},
   "outputs": [],
   "source": [
    "n = stressExponent = 2.0\n",
    "reference_viscosity = (1e3 * u.pascal * u.second)**-(n - 1)"
   ]
  },
  {
   "cell_type": "code",
   "execution_count": 11,
   "metadata": {},
   "outputs": [],
   "source": [
    "background_fluid.viscosity = GEO.ViscousCreep(preExponentialFactor=reference_viscosity, stressExponent=2.0)"
   ]
  },
  {
   "cell_type": "markdown",
   "metadata": {},
   "source": [
    "## Define Boundary Conditions\n",
    "\n",
    "The boundary conditions are freeslip everywhere (zero shear stress)."
   ]
  },
  {
   "cell_type": "code",
   "execution_count": 12,
   "metadata": {},
   "outputs": [
    {
     "data": {
      "text/plain": [
       "<underworld.conditions._conditions.DirichletCondition at 0x7f4d67651cf8>"
      ]
     },
     "execution_count": 12,
     "metadata": {},
     "output_type": "execute_result"
    }
   ],
   "source": [
    "Model.set_velocityBCs(top=[1.0 * u.m / u.hour, 0.], bottom=[0., 0.], left=[None, 0.], right=[None, 0.])"
   ]
  },
  {
   "cell_type": "markdown",
   "metadata": {},
   "source": [
    "### Visualisation of the Initial Velocity field"
   ]
  },
  {
   "cell_type": "code",
   "execution_count": 13,
   "metadata": {},
   "outputs": [
    {
     "data": {
      "text/html": [
       "<img src='data:image/png;base64,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'>"
      ],
      "text/plain": [
       "<IPython.core.display.HTML object>"
      ]
     },
     "metadata": {},
     "output_type": "display_data"
    }
   ],
   "source": [
    "import underworld.function as fn\n",
    "\n",
    "# Calculate the velocity magnitude\n",
    "velocityMag = fn.math.dot(Model.velocityField, Model.velocityField)\n",
    "# Get a conversion factor to units of m/hr\n",
    "fact = GEO.dimensionalise(1.0, u.metre / u.hour).magnitude\n",
    "# Apply the factor to the velocity Magnitude\n",
    "velocityMag *= fact\n",
    "\n",
    "Fig = glucifer.Figure(figsize=(1000,600), title=\"Velocity field in m/h\")\n",
    "Fig.Surface(Model.mesh, velocityMag)\n",
    "Fig.VectorArrows(Model.mesh, Model.velocityField)\n",
    "Fig.show()"
   ]
  },
  {
   "cell_type": "markdown",
   "metadata": {},
   "source": [
    "## Init and Run Model"
   ]
  },
  {
   "cell_type": "code",
   "execution_count": 14,
   "metadata": {},
   "outputs": [],
   "source": [
    "Model.init_model()"
   ]
  },
  {
   "cell_type": "code",
   "execution_count": null,
   "metadata": {},
   "outputs": [
    {
     "name": "stdout",
     "output_type": "stream",
     "text": [
      "Running with UWGeodynamics version 2.8.1-dev-d0ac155(master)\n"
     ]
    },
    {
     "name": "stderr",
     "output_type": "stream",
     "text": [
      "/usr/local/underworld2/lib/underworld/systems/_bsscr.py:477: UserWarning: A PETSc error has been encountered during the solve. Solution fields are possibly erroneous. \n",
      "\n",
      "This error is probably due to an incorrectly constructed linear system. Please check that your boundary conditions are consistent and sufficient and that your viscosity is positive everywhere. If you are deforming the mesh, ensure that it has not become tangled. \n",
      "\n",
      "The resultant KSPConvergedReasons are (f_hat, outer, backsolve) (0,-3,0).\n",
      "\n",
      "\n",
      "  warnings.warn(estring)\n"
     ]
    }
   ],
   "source": [
    "Model.run_for(nstep=2)"
   ]
  },
  {
   "cell_type": "code",
   "execution_count": null,
   "metadata": {},
   "outputs": [],
   "source": [
    "Fig = glucifer.Figure(figsize=(1000,600), title=\"Velocity field in m/h\")\n",
    "Fig.Surface(Model.mesh, velocityMag)\n",
    "Fig.VectorArrows(Model.mesh, Model.velocityField)\n",
    "Fig.show()"
   ]
  },
  {
   "cell_type": "code",
   "execution_count": null,
   "metadata": {},
   "outputs": [],
   "source": [
    "import matplotlib.pyplot as plt\n",
    "\n",
    "\n",
    "if GEO.nProcs == 1:\n",
    "\n",
    "    distances, vx = GEO.extract_profile(Model.velocityField[0], \n",
    "                                        line = [(-1.0 * u.m, Model.bottom), (-1.0 * u.m, Model.top)])\n",
    "\n",
    "    Fig, (ax1) = plt.subplots(1,1,figsize=(7,7))\n",
    "    ax1.plot(GEO.dimensionalise(vx, u.meter / u.hour), GEO.dimensionalise(distances, u.m))\n",
    "    ax1.set_ylabel(\"Depth in m\")\n",
    "    ax1.set_xlabel(\"velocity in meter / hour\")\n",
    "    ax1.set_title(\"Velocity Profile\")\n",
    "    \n",
    "plt.show()"
   ]
  },
  {
   "cell_type": "code",
   "execution_count": 9,
   "metadata": {},
   "outputs": [
    {
     "name": "stderr",
     "output_type": "stream",
     "text": [
      "/usr/local/lib/python3.5/dist-packages/pint/quantity.py:1377: UnitStrippedWarning: The unit of the quantity is stripped.\n",
      "  warnings.warn(\"The unit of the quantity is stripped.\", UnitStrippedWarning)\n"
     ]
    },
    {
     "data": {
      "text/html": [
       "<img src='data:image/png;base64,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'>"
      ],
      "text/plain": [
       "<IPython.core.display.HTML object>"
      ]
     },
     "metadata": {},
     "output_type": "display_data"
    }
   ],
   "source": [
    "Fig = glucifer.Figure(figsize=(1000,600), title=\"Velocity field in m/h\")\n",
    "Fig.Surface(Model.mesh, GEO.dimensionalise(Model.viscosityField, u.pascal * u.second))\n",
    "Fig.show()"
   ]
  },
  {
   "cell_type": "code",
   "execution_count": null,
   "metadata": {},
   "outputs": [],
   "source": []
  }
 ],
 "metadata": {
  "kernelspec": {
   "display_name": "Python 3",
   "language": "python",
   "name": "python3"
  },
  "language_info": {
   "codemirror_mode": {
    "name": "ipython",
    "version": 3
   },
   "file_extension": ".py",
   "mimetype": "text/x-python",
   "name": "python",
   "nbconvert_exporter": "python",
   "pygments_lexer": "ipython3",
   "version": "3.5.3"
  }
 },
 "nbformat": 4,
 "nbformat_minor": 2
}
