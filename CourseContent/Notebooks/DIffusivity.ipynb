{
 "cells": [
  {
   "cell_type": "markdown",
   "metadata": {},
   "source": [
    "# Hot Canon Ball (Steady State Solve)\n",
    "\n",
    "\n",
    "![Hot Canon Ball](./images/HotCanonFig.png)"
   ]
  },
  {
   "cell_type": "code",
   "execution_count": 1,
   "metadata": {},
   "outputs": [
    {
     "name": "stdout",
     "output_type": "stream",
     "text": [
      "loaded rc file /opt/UWGeodynamics/UWGeodynamics/uwgeo-data/uwgeodynamicsrc\n"
     ]
    }
   ],
   "source": [
    "import UWGeodynamics as GEO\n",
    "import glucifer"
   ]
  },
  {
   "cell_type": "code",
   "execution_count": 2,
   "metadata": {},
   "outputs": [],
   "source": [
    "u = GEO.UnitRegistry"
   ]
  },
  {
   "cell_type": "code",
   "execution_count": 3,
   "metadata": {},
   "outputs": [],
   "source": [
    "velocity = 1.0 * u.centimeter / u.hour\n",
    "model_length = 2. * u.meter\n",
    "model_height = 1. * u.meter\n",
    "minTemp = 300. * u.degK\n",
    "maxTemp = 1000. * u.degK\n",
    "bodyforce = 200 * u.kilogram / u.metre**3 * 9.81 * u.meter / u.second**2\n",
    "\n",
    "KL = model_height\n",
    "Kt = KL / velocity\n",
    "KM = bodyforce * KL**2 * Kt**2\n",
    "KT = maxTemp - minTemp\n",
    "\n",
    "GEO.scaling_coefficients[\"[length]\"] = KL\n",
    "GEO.scaling_coefficients[\"[time]\"] = Kt\n",
    "GEO.scaling_coefficients[\"[mass]\"]= KM\n",
    "GEO.scaling_coefficients[\"[temperature]\"] = KT"
   ]
  },
  {
   "cell_type": "code",
   "execution_count": 4,
   "metadata": {},
   "outputs": [],
   "source": [
    "Model = GEO.Model(elementRes=(128, 128), \n",
    "                  minCoord=(-1. * u.meter, -50. * u.centimeter), \n",
    "                  maxCoord=(1. * u.meter, 50. * u.centimeter))"
   ]
  },
  {
   "cell_type": "code",
   "execution_count": 5,
   "metadata": {},
   "outputs": [],
   "source": [
    "Model.diffusivity = 1e-6 * u.metre**2 / u.second "
   ]
  },
  {
   "cell_type": "code",
   "execution_count": 6,
   "metadata": {},
   "outputs": [
    {
     "data": {
      "text/plain": [
       "<underworld.conditions._conditions.DirichletCondition at 0x7f3d86711d68>"
      ]
     },
     "execution_count": 6,
     "metadata": {},
     "output_type": "execute_result"
    }
   ],
   "source": [
    "Model.set_temperatureBCs(top=maxTemp, bottom=minTemp)"
   ]
  },
  {
   "cell_type": "code",
   "execution_count": 7,
   "metadata": {},
   "outputs": [],
   "source": [
    "Disk = GEO.shapes.Disk(center=(0.,0.), radius=30. * u.centimetre)\n",
    "Model.temperature.data[Disk.evaluate(Model.mesh)] = GEO.non_dimensionalise(maxTemp)"
   ]
  },
  {
   "cell_type": "code",
   "execution_count": 8,
   "metadata": {},
   "outputs": [
    {
     "name": "stderr",
     "output_type": "stream",
     "text": [
      "/usr/local/lib/python3.5/dist-packages/pint/quantity.py:1377: UnitStrippedWarning: The unit of the quantity is stripped.\n",
      "  warnings.warn(\"The unit of the quantity is stripped.\", UnitStrippedWarning)\n"
     ]
    },
    {
     "data": {
      "text/html": [
       "<img src='data:image/png;base64,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'>"
      ],
      "text/plain": [
       "<IPython.core.display.HTML object>"
      ]
     },
     "metadata": {},
     "output_type": "display_data"
    }
   ],
   "source": [
    "Fig = glucifer.Figure(figsize=(1200,400))\n",
    "Fig.Surface(Model.mesh, GEO.dimensionalise(Model.temperature, u.degK), colours=\"coolwarm\")\n",
    "Fig.show()"
   ]
  },
  {
   "cell_type": "code",
   "execution_count": 9,
   "metadata": {},
   "outputs": [],
   "source": [
    "Model.init_model(temperature=False)"
   ]
  },
  {
   "cell_type": "code",
   "execution_count": 10,
   "metadata": {},
   "outputs": [
    {
     "name": "stdout",
     "output_type": "stream",
     "text": [
      "Running with UWGeodynamics version 2.8.1-dev-d0ac155(master)\n"
     ]
    },
    {
     "ename": "ValueError",
     "evalue": "Unable to create solver. Provided system not recognised.",
     "output_type": "error",
     "traceback": [
      "\u001b[0;31m---------------------------------------------------------------------------\u001b[0m",
      "\u001b[0;31mValueError\u001b[0m                                Traceback (most recent call last)",
      "\u001b[0;32m<ipython-input-10-c581722eb645>\u001b[0m in \u001b[0;36m<module>\u001b[0;34m\u001b[0m\n\u001b[0;32m----> 1\u001b[0;31m \u001b[0mModel\u001b[0m\u001b[0;34m.\u001b[0m\u001b[0mrun_for\u001b[0m\u001b[0;34m(\u001b[0m\u001b[0mnstep\u001b[0m\u001b[0;34m=\u001b[0m\u001b[0;36m2\u001b[0m\u001b[0;34m)\u001b[0m\u001b[0;34m\u001b[0m\u001b[0m\n\u001b[0m",
      "\u001b[0;32m/usr/local/lib/python3.5/dist-packages/pint/registry_helpers.py\u001b[0m in \u001b[0;36mwrapper\u001b[0;34m(*args, **kwargs)\u001b[0m\n\u001b[1;32m    245\u001b[0m                     raise DimensionalityError(value, 'a quantity of',\n\u001b[1;32m    246\u001b[0m                                               val_dim, dim)\n\u001b[0;32m--> 247\u001b[0;31m             \u001b[0;32mreturn\u001b[0m \u001b[0mfunc\u001b[0m\u001b[0;34m(\u001b[0m\u001b[0;34m*\u001b[0m\u001b[0margs\u001b[0m\u001b[0;34m,\u001b[0m \u001b[0;34m**\u001b[0m\u001b[0mkwargs\u001b[0m\u001b[0;34m)\u001b[0m\u001b[0;34m\u001b[0m\u001b[0m\n\u001b[0m\u001b[1;32m    248\u001b[0m         \u001b[0;32mreturn\u001b[0m \u001b[0mwrapper\u001b[0m\u001b[0;34m\u001b[0m\u001b[0m\n\u001b[1;32m    249\u001b[0m     \u001b[0;32mreturn\u001b[0m \u001b[0mdecorator\u001b[0m\u001b[0;34m\u001b[0m\u001b[0m\n",
      "\u001b[0;32m/opt/UWGeodynamics/UWGeodynamics/_model.py\u001b[0m in \u001b[0;36mrun_for\u001b[0;34m(self, duration, checkpoint_interval, nstep, checkpoint_times, restart_checkpoint, dt, restartStep, restartDir, output_units)\u001b[0m\n\u001b[1;32m   1598\u001b[0m             \u001b[0mself\u001b[0m\u001b[0;34m.\u001b[0m\u001b[0m_pre_solve\u001b[0m\u001b[0;34m(\u001b[0m\u001b[0;34m)\u001b[0m\u001b[0;34m\u001b[0m\u001b[0m\n\u001b[1;32m   1599\u001b[0m \u001b[0;34m\u001b[0m\u001b[0m\n\u001b[0;32m-> 1600\u001b[0;31m             \u001b[0mself\u001b[0m\u001b[0;34m.\u001b[0m\u001b[0msolve\u001b[0m\u001b[0;34m(\u001b[0m\u001b[0;34m)\u001b[0m\u001b[0;34m\u001b[0m\u001b[0m\n\u001b[0m\u001b[1;32m   1601\u001b[0m \u001b[0;34m\u001b[0m\u001b[0m\n\u001b[1;32m   1602\u001b[0m             \u001b[0mself\u001b[0m\u001b[0;34m.\u001b[0m\u001b[0m_dt\u001b[0m \u001b[0;34m=\u001b[0m \u001b[0;36m2.0\u001b[0m \u001b[0;34m*\u001b[0m \u001b[0mrcParams\u001b[0m\u001b[0;34m[\u001b[0m\u001b[0;34m\"CFL\"\u001b[0m\u001b[0;34m]\u001b[0m \u001b[0;34m*\u001b[0m \u001b[0mself\u001b[0m\u001b[0;34m.\u001b[0m\u001b[0mswarm_advector\u001b[0m\u001b[0;34m.\u001b[0m\u001b[0mget_max_dt\u001b[0m\u001b[0;34m(\u001b[0m\u001b[0;34m)\u001b[0m\u001b[0;34m\u001b[0m\u001b[0m\n",
      "\u001b[0;32m/opt/UWGeodynamics/UWGeodynamics/_model.py\u001b[0m in \u001b[0;36msolve\u001b[0;34m(self)\u001b[0m\n\u001b[1;32m   1475\u001b[0m             \u001b[0mmaxIterations\u001b[0m \u001b[0;34m=\u001b[0m \u001b[0mrcParams\u001b[0m\u001b[0;34m[\u001b[0m\u001b[0;34m\"nonlinear.max.iterations\"\u001b[0m\u001b[0;34m]\u001b[0m\u001b[0;34m\u001b[0m\u001b[0m\n\u001b[1;32m   1476\u001b[0m \u001b[0;34m\u001b[0m\u001b[0m\n\u001b[0;32m-> 1477\u001b[0;31m         self.solver.solve(\n\u001b[0m\u001b[1;32m   1478\u001b[0m             \u001b[0mnonLinearIterate\u001b[0m\u001b[0;34m=\u001b[0m\u001b[0;32mTrue\u001b[0m\u001b[0;34m,\u001b[0m\u001b[0;34m\u001b[0m\u001b[0m\n\u001b[1;32m   1479\u001b[0m             \u001b[0mnonLinearMinIterations\u001b[0m\u001b[0;34m=\u001b[0m\u001b[0mminIterations\u001b[0m\u001b[0;34m,\u001b[0m\u001b[0;34m\u001b[0m\u001b[0m\n",
      "\u001b[0;32m/opt/UWGeodynamics/UWGeodynamics/_model.py\u001b[0m in \u001b[0;36msolver\u001b[0;34m(self)\u001b[0m\n\u001b[1;32m    767\u001b[0m                 \u001b[0m_apply_saved_options_on_solver\u001b[0m\u001b[0;34m(\u001b[0m\u001b[0mself\u001b[0m\u001b[0;34m.\u001b[0m\u001b[0m_solver\u001b[0m\u001b[0;34m,\u001b[0m \u001b[0moptions\u001b[0m\u001b[0;34m)\u001b[0m\u001b[0;34m\u001b[0m\u001b[0m\n\u001b[1;32m    768\u001b[0m             \u001b[0;32melse\u001b[0m\u001b[0;34m:\u001b[0m\u001b[0;34m\u001b[0m\u001b[0m\n\u001b[0;32m--> 769\u001b[0;31m                 \u001b[0mself\u001b[0m\u001b[0;34m.\u001b[0m\u001b[0m_solver\u001b[0m \u001b[0;34m=\u001b[0m \u001b[0muw\u001b[0m\u001b[0;34m.\u001b[0m\u001b[0msystems\u001b[0m\u001b[0;34m.\u001b[0m\u001b[0mSolver\u001b[0m\u001b[0;34m(\u001b[0m\u001b[0mself\u001b[0m\u001b[0;34m.\u001b[0m\u001b[0mstokes_SLE\u001b[0m\u001b[0;34m)\u001b[0m\u001b[0;34m\u001b[0m\u001b[0m\n\u001b[0m\u001b[1;32m    770\u001b[0m         \u001b[0;32mreturn\u001b[0m \u001b[0mself\u001b[0m\u001b[0;34m.\u001b[0m\u001b[0m_solver\u001b[0m\u001b[0;34m\u001b[0m\u001b[0m\n\u001b[1;32m    771\u001b[0m \u001b[0;34m\u001b[0m\u001b[0m\n",
      "\u001b[0;32m/usr/local/underworld2/lib/underworld/systems/_solver.py\u001b[0m in \u001b[0;36mfactory\u001b[0;34m(eqs, type, *args, **kwargs)\u001b[0m\n\u001b[1;32m     33\u001b[0m             \u001b[0;32mreturn\u001b[0m \u001b[0m_energy_solver\u001b[0m\u001b[0;34m.\u001b[0m\u001b[0mHeatSolver\u001b[0m\u001b[0;34m(\u001b[0m\u001b[0meqs\u001b[0m\u001b[0;34m,\u001b[0m \u001b[0;34m*\u001b[0m\u001b[0margs\u001b[0m\u001b[0;34m,\u001b[0m \u001b[0;34m**\u001b[0m\u001b[0mkwargs\u001b[0m\u001b[0;34m)\u001b[0m\u001b[0;34m\u001b[0m\u001b[0m\n\u001b[1;32m     34\u001b[0m         \u001b[0;32melse\u001b[0m\u001b[0;34m:\u001b[0m\u001b[0;34m\u001b[0m\u001b[0m\n\u001b[0;32m---> 35\u001b[0;31m             \u001b[0;32mraise\u001b[0m \u001b[0mValueError\u001b[0m\u001b[0;34m(\u001b[0m\u001b[0;34m\"Unable to create solver. Provided system not recognised.\"\u001b[0m\u001b[0;34m)\u001b[0m\u001b[0;34m\u001b[0m\u001b[0m\n\u001b[0m",
      "\u001b[0;31mValueError\u001b[0m: Unable to create solver. Provided system not recognised."
     ]
    }
   ],
   "source": [
    "Model.run_for(nstep=2)"
   ]
  },
  {
   "cell_type": "code",
   "execution_count": 15,
   "metadata": {},
   "outputs": [
    {
     "name": "stderr",
     "output_type": "stream",
     "text": [
      "/usr/local/lib/python3.5/dist-packages/pint/quantity.py:1377: UnitStrippedWarning: The unit of the quantity is stripped.\n",
      "  warnings.warn(\"The unit of the quantity is stripped.\", UnitStrippedWarning)\n"
     ]
    },
    {
     "data": {
      "text/html": [
       "<img src='data:image/png;base64,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'>"
      ],
      "text/plain": [
       "<IPython.core.display.HTML object>"
      ]
     },
     "metadata": {},
     "output_type": "display_data"
    }
   ],
   "source": [
    "Fig = glucifer.Figure(figsize=(1200,400))\n",
    "Fig.Surface(Model.mesh, GEO.dimensionalise(Model.temperature, u.degK), colours=\"coolwarm\")\n",
    "Fig.show()"
   ]
  }
 ],
 "metadata": {
  "kernelspec": {
   "display_name": "Python 3",
   "language": "python",
   "name": "python3"
  },
  "language_info": {
   "codemirror_mode": {
    "name": "ipython",
    "version": 3
   },
   "file_extension": ".py",
   "mimetype": "text/x-python",
   "name": "python",
   "nbconvert_exporter": "python",
   "pygments_lexer": "ipython3",
   "version": "3.5.3"
  }
 },
 "nbformat": 4,
 "nbformat_minor": 2
}
